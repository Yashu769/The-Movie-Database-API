{
 "cells": [
  {
   "cell_type": "markdown",
   "id": "a492b520",
   "metadata": {},
   "source": [
    "# Project Details\n",
    "##TMDb API enables you to find out the latest information about TV Shows, Movies and the biggest names in entertainment sector for a marvelous and fun TV/Movie watching experience.\n",
    "Our Motivation for using TMDb API\n",
    "By collecting the data using TMDb API one can recommend TV Shows, Movies and all sorts of entertainment on the basis of user’s affinity to specific genres, actors, likes and dislikes.\n",
    "We can find details about upcoming TV Shows and Movies.\n",
    "We can find what is the most popular and/ or exclusive/new content at a given time.\n"
   ]
  },
  {
   "cell_type": "code",
   "execution_count": 1,
   "id": "89ae9ef7",
   "metadata": {},
   "outputs": [
    {
     "name": "stdout",
     "output_type": "stream",
     "text": [
      "534780\n"
     ]
    }
   ],
   "source": [
    "#Find the 'id' of the movie \"Andhadhun\" using TMDb API.\n",
    "import requests\n",
    "response = requests.get('https://api.themoviedb.org/3/search/movie',{'api_key' : '79ee5e714ada2c34aeb06d0bf461fb5d','query':'Andhadhun'} )\n",
    "data = response.json()\n",
    "print(data['results'][0]['id'])"
   ]
  },
  {
   "cell_type": "code",
   "execution_count": 2,
   "id": "99eaa7d3",
   "metadata": {},
   "outputs": [
    {
     "name": "stdout",
     "output_type": "stream",
     "text": [
      "420\n"
     ]
    }
   ],
   "source": [
    "# Fetch the company id company 'Marvel Studios' using TMDb. Print the id.\n",
    "import requests\n",
    "response = requests.get('https://api.themoviedb.org/3/search/company',{'api_key' : '79ee5e714ada2c34aeb06d0bf461fb5d','query':'Marvel Studios'} )\n",
    "data = response.json()\n",
    "print(data['results'][0]['id'])\n"
   ]
  },
  {
   "cell_type": "code",
   "execution_count": 3,
   "id": "bc46576e",
   "metadata": {},
   "outputs": [
    {
     "name": "stdout",
     "output_type": "stream",
     "text": [
      "1870 8\n"
     ]
    }
   ],
   "source": [
    "#Find the vote count and vote average of the movie \"3 Idiots\".\n",
    "import requests\n",
    "response = requests.get('https://api.themoviedb.org/3/search/movie',{'api_key' : '79ee5e714ada2c34aeb06d0bf461fb5d','query':'3 Idiots'} )\n",
    "data = response.json()\n",
    "print(data['results'][0]['vote_count'],data['results'][0]['vote_average'])\n"
   ]
  },
  {
   "cell_type": "code",
   "execution_count": 4,
   "id": "106ace39",
   "metadata": {},
   "outputs": [
    {
     "name": "stdout",
     "output_type": "stream",
     "text": [
      "Inception\n",
      "Stoker\n",
      "Inside Llewyn Davis\n",
      "Noah\n",
      "Step Up Revolution\n"
     ]
    }
   ],
   "source": [
    "#Fetch the names of top 5 similar movies to 'Inception'.\n",
    "import requests \n",
    "api_key = \"e226f4a5f5bace766952aa0d17182959\" \n",
    "api_link = \"https://api.themoviedb.org/3\" \n",
    "params = {'query':\"Inception\", 'api_key':api_key} \n",
    "header = {'Accept': 'application/json'} \n",
    "response = requests.get(api_link + \"/search/movie\", headers = header, params=params) \n",
    "data = response.json() \n",
    "results = data.get('results') \n",
    "for result in results:     \n",
    "\tif result.get('title') == 'Inception':         \n",
    "\t\tid = result.get('id') \n",
    "params2 = {'api_key':api_key} \n",
    "response2 = requests.get(api_link + \"/movie/\" + str(id) + \"/similar\", headers = header, params=params2) \n",
    "data2 = response2.json() \n",
    "results2 = data2.get('results') \n",
    "for result in results2[:5]:     \n",
    "\tprint(result.get(\"title\"))\n"
   ]
  },
  {
   "cell_type": "code",
   "execution_count": 5,
   "id": "b198e27a",
   "metadata": {},
   "outputs": [
    {
     "name": "stdout",
     "output_type": "stream",
     "text": [
      "The Shawshank Redemption - Drama, Crime, \n",
      "The Godfather - Drama, Crime, \n",
      "Schindler's List - Drama, History, War, \n",
      "The Godfather: Part II - Drama, Crime, \n",
      "12 Angry Men - Drama, \n",
      "Gabriel's Inferno - Romance, \n",
      "The Green Mile - Fantasy, Drama, Crime, \n",
      "Gabriel's Inferno: Part II - Romance, \n",
      "The Dark Knight - Drama, Action, Crime, Thriller, \n",
      "Pulp Fiction - Thriller, Crime, \n"
     ]
    }
   ],
   "source": [
    "#Fetch the top rated english movies in the US region using the TMDb API. From the result, print the first 10 movies which have original language as english. Also print their genres.\n",
    "import requests\n",
    "response = requests.get('https://api.themoviedb.org/3/movie/top_rated',{'api_key' : '79ee5e714ada2c34aeb06d0bf461fb5d','language':'en-US','region':'US'} )\n",
    "data = response.json()\n",
    "count = 0\n",
    "i = 0\n",
    "while count<10:\n",
    "    if data['results'][i]['original_language'] == 'en':\n",
    "        response1= requests.get('https://api.themoviedb.org/3/genre/movie/list',{'api_key' : '79ee5e714ada2c34aeb06d0bf461fb5d','language':'en-US'} )\n",
    "        data1 = response1.json()\n",
    "        genre_id = data['results'][i]['genre_ids']\n",
    "        genre_name = []\n",
    "        for x in genre_id:\n",
    "            \n",
    "            for j in range(len(data1['genres'])):\n",
    "                if data1['genres'][j]['id'] == x:\n",
    "                    genre_name.append(data1['genres'][j]['name'])\n",
    "        print(data['results'][i]['title'],end=' - ')\n",
    "        for g in range(len(genre_name)):\n",
    "            print(genre_name[g],end=\", \")\n",
    "        print()\n",
    "            \n",
    "        \n",
    "        count+=1\n",
    "    i+=1\n",
    "        "
   ]
  },
  {
   "cell_type": "code",
   "execution_count": 6,
   "id": "3a010462",
   "metadata": {},
   "outputs": [
    {
     "name": "stdout",
     "output_type": "stream",
     "text": [
      "224513\n",
      "Ana de Armas - Santa Cruz del Norte, Cuba\n"
     ]
    }
   ],
   "source": [
    "# Find the name and birthplace of the present most popular person according to TMDb API.\n",
    "import requests\n",
    "media_type = 'person'\n",
    "time_window = 'day'\n",
    "response = requests.get(f'https://api.themoviedb.org/3/person/popular',{'api_key' : '79ee5e714ada2c34aeb06d0bf461fb5d'} )\n",
    "data = response.json()\n",
    "person_id = data['results'][0]['id']\n",
    "print(person_id)\n",
    "\n",
    "response1 = requests.get(f'https://api.themoviedb.org/3/person/{person_id}',{'api_key' : '79ee5e714ada2c34aeb06d0bf461fb5d'} )\n",
    "data1 = response1.json()\n",
    "print(data['results'][0]['name'],'-',data1['place_of_birth'])\n",
    "\n"
   ]
  },
  {
   "cell_type": "code",
   "execution_count": 7,
   "id": "4912add4",
   "metadata": {},
   "outputs": [
    {
     "name": "stdout",
     "output_type": "stream",
     "text": [
      "aliaabhatt Aliaa08\n"
     ]
    }
   ],
   "source": [
    "# Fetch the Instagram and Twitter handle of Indian Actress \"Alia Bhatt\" from the TMDb API.\n",
    "import requests\n",
    "response = requests.get('https://api.themoviedb.org/3/search/person',{'api_key' : '79ee5e714ada2c34aeb06d0bf461fb5d','query':'Alia Bhatt'} )\n",
    "data = response.json()\n",
    "person_id = data['results'][0]['id']\n",
    "response1 = requests.get(f'https://api.themoviedb.org/3/person/{person_id}/external_ids',{'api_key' : '79ee5e714ada2c34aeb06d0bf461fb5d','query':'Alia Bhatt'} )\n",
    "data1 = response1.json()\n",
    "print(data1['instagram_id'],data1['twitter_id'])\n"
   ]
  },
  {
   "cell_type": "code",
   "execution_count": 8,
   "id": "0f094058",
   "metadata": {},
   "outputs": [
    {
     "name": "stdout",
     "output_type": "stream",
     "text": [
      "Lt. Pete 'Maverick' Mitchell\n",
      "Ethan Hunt\n",
      "Chief John Anderton\n",
      "Maj. William 'Bill' Cage\n"
     ]
    }
   ],
   "source": [
    "#Fetch the names of the character played by Tom Cruise in the movies:\n",
    "'''Top Gun\n",
    "Mission: Impossible - Fallout\n",
    "Minority Report\n",
    "Edge of Tomorrow '''\n",
    "import requests\n",
    "response = requests.get('https://api.themoviedb.org/3/search/person',{'api_key' : '79ee5e714ada2c34aeb06d0bf461fb5d','query':'Tom Cruise'} )\n",
    "data = response.json()\n",
    "person_id = data['results'][0]['id']\n",
    "response1 = requests.get(f'https://api.themoviedb.org/3/person/{person_id}/movie_credits',{'api_key' : '79ee5e714ada2c34aeb06d0bf461fb5d'} )\n",
    "data1 = response1.json()\n",
    "movies = ['Top Gun','Mission: Impossible - Fallout','Minority Report','Edge of Tomorrow']\n",
    "for movie in movies:\n",
    "    for i in data1['cast']:\n",
    "        if i['title'] == movie :\n",
    "            print(i['character'])\n"
   ]
  },
  {
   "cell_type": "code",
   "execution_count": 9,
   "id": "a6882e61",
   "metadata": {},
   "outputs": [
    {
     "name": "stdout",
     "output_type": "stream",
     "text": [
      "Yes\n"
     ]
    }
   ],
   "source": [
    "#Did James McAvoy play a role in the movie Deadpool 2. Print Yes or No.\n",
    "import requests\n",
    "def played_role(person) :\n",
    "    response = requests.get('https://api.themoviedb.org/3/search/person',{'api_key' : '79ee5e714ada2c34aeb06d0bf461fb5d',f'query': {person}} )\n",
    "    data = response.json()\n",
    "    for i in data['results'][0]['known_for']:\n",
    "        if i['title'] == 'Deadpool 2':\n",
    "            return True\n",
    "person = 'James McAvoy'\n",
    "if played_role(person):\n",
    "    print('Yes')\n",
    "else:\n",
    "    print('No')"
   ]
  },
  {
   "cell_type": "code",
   "execution_count": 10,
   "id": "0562cb26",
   "metadata": {},
   "outputs": [
    {
     "name": "stdout",
     "output_type": "stream",
     "text": [
      "No\n"
     ]
    }
   ],
   "source": [
    "#Using the result obtained in previous question, find out if James McAvoy was credited for his role in movie Deadpool 2. Print Yes or No.\n",
    "import requests\n",
    "def played_role(person) :\n",
    "    response = requests.get('https://api.themoviedb.org/3/search/person',{'api_key' : '79ee5e714ada2c34aeb06d0bf461fb5d',f'query': {person}} )\n",
    "    data = response.json()\n",
    "    for i in data['results'][0]['known_for']:\n",
    "        if i['title'] == 'Deadpool 2':\n",
    "            movie_id = i['id']\n",
    "            break\n",
    "    response1 = requests.get(f'https://api.themoviedb.org/3/movie/{movie_id}/credits',{'api_key' : '79ee5e714ada2c34aeb06d0bf461fb5d'} )\n",
    "    data1 = response1.json()\n",
    "    for i in data1['cast']:\n",
    "        if i['name'] == 'James McAvoy':\n",
    "            credit_id = i['credit_id']\n",
    "            break\n",
    "    response2 = requests.get(f'https://api.themoviedb.org/3/credit/{credit_id}',{'api_key' : '79ee5e714ada2c34aeb06d0bf461fb5d'} )\n",
    "    data2 = response2.json()\n",
    "    if 'uncredited' in data2['media']['character']:\n",
    "        return False\n",
    "    \n",
    "    \n",
    "person = 'James McAvoy'\n",
    "if played_role(person):\n",
    "    print('Yes')\n",
    "else:\n",
    "    print('No')"
   ]
  },
  {
   "cell_type": "code",
   "execution_count": 11,
   "id": "b57c5d90",
   "metadata": {},
   "outputs": [
    {
     "name": "stdout",
     "output_type": "stream",
     "text": [
      "Friends is an American television sitcom created by David Crane and Marta Kauffman, which aired on NBC from September 22, 1994, to May 6, 2004, lasting ten seasons. With an ensemble cast starring Jennifer Aniston, Courteney Cox, Lisa Kudrow, Matt LeBlanc, Matthew Perry and David Schwimmer, the show revolves around six friends in their 20s and 30s who live in Manhattan, New York City. The series was produced by Bright/Kauffman/Crane Productions, in association with Warner Bros. Television. The original executive producers were Kevin S. Bright, Kauffman, and Crane.\n"
     ]
    }
   ],
   "source": [
    "#Fetch the overview of the TV Show \"FRIENDS\" using TMDb API.\n",
    "import requests\n",
    "response = requests.get('https://api.themoviedb.org/3/search/tv',{'api_key':'79ee5e714ada2c34aeb06d0bf461fb5d','query':'FRIENDS'})\n",
    "data = response.json()\n",
    "print(data['results'][0]['overview'])"
   ]
  },
  {
   "cell_type": "code",
   "execution_count": 12,
   "id": "c6bbc763",
   "metadata": {},
   "outputs": [
    {
     "name": "stdout",
     "output_type": "stream",
     "text": [
      "The Holographic Excitation - 2012-10-25\n"
     ]
    }
   ],
   "source": [
    "#Fetch the name and air date of S06E05 of the TV Show 'The Big Bang Theory' from TMDb API.\n",
    "import requests\n",
    "response = requests.get('https://api.themoviedb.org/3/search/tv',{'api_key':'79ee5e714ada2c34aeb06d0bf461fb5d','query':'The Big Bang Theory'})\n",
    "data = response.json()\n",
    "tv_id = data['results'][0]['id']\n",
    "season_number = 6\n",
    "episode_number = 5\n",
    "response1 = requests.get(f'https://api.themoviedb.org/3/tv/{tv_id}/season/{season_number}/episode/{episode_number}',{'api_key':'79ee5e714ada2c34aeb06d0bf461fb5d'})\n",
    "data1 = response1.json()\n",
    "print(data1['name'],'-',data1['air_date'])"
   ]
  },
  {
   "cell_type": "code",
   "execution_count": 13,
   "id": "7b88b4e9",
   "metadata": {},
   "outputs": [
    {
     "name": "stdout",
     "output_type": "stream",
     "text": [
      "Every ending has a beginning.\n",
      "Evil has evolved.\n",
      "Never meet your heroes.\n",
      "The future is in her hands.\n",
      "Adapt or die.\n"
     ]
    }
   ],
   "source": [
    "#Fetch the trending TV Shows for the week from the TMDb API and print the taglines of the top 5 shows. If there is no tagline, print 'Empty' instead.\n",
    "import requests\n",
    "media_type = 'tv'\n",
    "time_window = 'week'\n",
    "response = requests.get(f'https://api.themoviedb.org/3/trending/{media_type}/{time_window}',{'api_key':'79ee5e714ada2c34aeb06d0bf461fb5d'})\n",
    "data = response.json()\n",
    "tv_ids = []\n",
    "for i in range(5):\n",
    "    tv_ids.append(data['results'][i]['id'])\n",
    "for tv_id in tv_ids:\n",
    "    response1 = requests.get(f'https://api.themoviedb.org/3/tv/{tv_id}',{'api_key':'79ee5e714ada2c34aeb06d0bf461fb5d'})\n",
    "    data1 = response1.json()\n",
    "    print(data1['tagline'])"
   ]
  },
  {
   "cell_type": "code",
   "execution_count": 14,
   "id": "fe40a457",
   "metadata": {},
   "outputs": [
    {
     "name": "stdout",
     "output_type": "stream",
     "text": [
      "Love Island\n",
      "Better Call Saul\n",
      "Naked News\n",
      "Hollyoaks\n",
      "Emmerdale\n",
      "PBS NewsHour\n",
      "General Hospital\n",
      "Days of Our Lives\n",
      "The Daily Show with Trevor Noah\n",
      "Teen Titans Go!\n",
      "The ReidOut\n",
      "The Late Show with Stephen Colbert\n",
      "The Tonight Show Starring Jimmy Fallon\n",
      "Roswell, New Mexico\n",
      "Tuca & Bertie\n",
      "Coronation Street\n",
      "Industry\n",
      "The Brokenwood Mysteries\n",
      "In the Dark\n",
      "WWE Raw\n",
      "Below Deck Mediterranean\n",
      "American Ninja Warrior\n",
      "Gigantosaurus\n",
      "The Bachelorette\n",
      "Good Mythical Morning\n",
      "Hunted\n",
      "Aussie Gold Hunters\n",
      "The Egos\n",
      "Survivor South Africa\n",
      "Fear Thy Neighbor\n",
      "Holly Hobbie\n",
      "Big Tree City\n",
      "24 Hours in A&E\n",
      "WWE Raw Talk\n",
      "Snake in the Grass\n",
      "Beat Shazam\n",
      "Jeopardy!\n",
      "The Family Chantel\n",
      "People Magazine Investigates\n",
      "Running Wild With Bear Grylls: The Challenge\n",
      "Inside the Factory\n",
      "EastEnders\n",
      "AEW Dark: Elevation\n",
      "The Rachel Maddow Show\n",
      "Basketball Wives\n",
      "Being The Elite\n",
      "Have You Been Paying Attention?\n",
      "Gordon Ramsay: Uncharted Showdown\n",
      "Street Outlaws: End Game\n",
      "BBQ USA\n",
      "Claim to Fame\n",
      "Middlemost Post\n",
      "Back Roads\n",
      "LIVE with Kelly and Ryan\n",
      "Willy il Coyote e Beep Beep\n",
      "Sea of Love\n",
      "Police: Hour of Duty\n",
      "Phrogging: Hider in My House\n",
      "Zindagi Ki Mehek\n",
      "MTV's Following: Bretman Rock\n",
      "Prem Bandhan\n",
      "The View\n",
      "Me & Mickey\n",
      "People Magazine Presents: Crimes of the 90s\n",
      "People Puzzler\n",
      "Big Zuu's Big Eats\n",
      "up4noise\n",
      "M!LK メジャーデビュー記念！Ribbon スペシャル\n"
     ]
    }
   ],
   "source": [
    "#Print the names of all the TV shows to be aired today whose original language is english.\n",
    "import requests\n",
    "response = requests.get(f'https://api.themoviedb.org/3/tv/airing_today',{'api_key':'79ee5e714ada2c34aeb06d0bf461fb5d'})\n",
    "data = response.json()\n",
    "total_pages = data['total_pages']\n",
    "page = 1\n",
    "while page<=total_pages:\n",
    "    response = requests.get(f'https://api.themoviedb.org/3/tv/airing_today',{'api_key':'79ee5e714ada2c34aeb06d0bf461fb5d','page': page})\n",
    "    data = response.json()\n",
    "    page+=1\n",
    "    for i in range(len(data['results'])):\n",
    "        if data['results'][i]['original_language'] == 'en':\n",
    "            print(data['results'][i]['name'])\n"
   ]
  },
  {
   "cell_type": "code",
   "execution_count": 15,
   "id": "5b5722f3",
   "metadata": {},
   "outputs": [
    {
     "name": "stdout",
     "output_type": "stream",
     "text": [
      "10 5\n"
     ]
    }
   ],
   "source": [
    "#Count the number of males and females in the cast of \"Money Heist\" using the TMDb API.\n",
    "import requests\n",
    "response = requests.get(f'https://api.themoviedb.org/3/search/tv',{'api_key':'79ee5e714ada2c34aeb06d0bf461fb5d','query':'Money Heist'})\n",
    "data = response.json()\n",
    "for i in range(len(data['results'])):\n",
    "    if data['results'][i]['name'] == 'Money Heist':\n",
    "        tv_id = data['results'][i]['id']\n",
    "        break\n",
    "response1 = requests.get(f'https://api.themoviedb.org/3/tv/{tv_id}/credits',{'api_key':'79ee5e714ada2c34aeb06d0bf461fb5d'})\n",
    "data1 = response1.json()\n",
    "male_count = 0\n",
    "female_count = 0\n",
    "for i in data1['cast']:\n",
    "    if i['gender'] == 2:\n",
    "        male_count+=1\n",
    "    else:\n",
    "        female_count+=1\n",
    "print(male_count,female_count)"
   ]
  },
  {
   "cell_type": "code",
   "execution_count": null,
   "id": "b30a38bf",
   "metadata": {},
   "outputs": [],
   "source": []
  }
 ],
 "metadata": {
  "kernelspec": {
   "display_name": "Python 3",
   "language": "python",
   "name": "python3"
  },
  "language_info": {
   "codemirror_mode": {
    "name": "ipython",
    "version": 3
   },
   "file_extension": ".py",
   "mimetype": "text/x-python",
   "name": "python",
   "nbconvert_exporter": "python",
   "pygments_lexer": "ipython3",
   "version": "3.8.8"
  }
 },
 "nbformat": 4,
 "nbformat_minor": 5
}
